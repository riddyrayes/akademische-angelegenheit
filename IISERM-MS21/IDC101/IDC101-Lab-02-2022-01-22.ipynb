{
  "nbformat": 4,
  "nbformat_minor": 0,
  "metadata": {
    "colab": {
      "name": "01-21-22-Lab-2-MS21165.ipynb",
      "provenance": [],
      "collapsed_sections": [],
      "toc_visible": true
    },
    "kernelspec": {
      "name": "python3",
      "display_name": "Python 3"
    },
    "language_info": {
      "name": "python"
    }
  },
  "cells": [
    {
      "cell_type": "code",
      "execution_count": null,
      "metadata": {
        "id": "2gyE_hXS-hMl",
        "colab": {
          "base_uri": "https://localhost:8080/"
        },
        "outputId": "a80a9592-c07b-4302-cc20-7d77d6ff32c5"
      },
      "outputs": [
        {
          "output_type": "stream",
          "name": "stdout",
          "text": [
            "Welcome to Introduction to Computer course\n"
          ]
        }
      ],
      "source": [
        "print('Welcome to Introduction to Computer course')"
      ]
    },
    {
      "cell_type": "markdown",
      "source": [
        "# Lab Session 2\n",
        "![](https://i.imgur.com/qCwDzYh.png)"
      ],
      "metadata": {
        "id": "MArbzuCbCPCH"
      }
    },
    {
      "cell_type": "markdown",
      "source": [
        "## Question 1"
      ],
      "metadata": {
        "id": "DwKWdDSpCJpF"
      }
    },
    {
      "cell_type": "code",
      "source": [
        "x = int(input(''))\n",
        "y = int(input(''))\n",
        "print(x+y)"
      ],
      "metadata": {
        "colab": {
          "base_uri": "https://localhost:8080/"
        },
        "id": "70pz3LnI5aPI",
        "outputId": "0b4ec358-1fba-4a9a-9843-9bed8260a491"
      },
      "execution_count": 5,
      "outputs": [
        {
          "output_type": "stream",
          "name": "stdout",
          "text": [
            "6\n",
            "12\n",
            "18\n"
          ]
        }
      ]
    },
    {
      "cell_type": "markdown",
      "source": [
        "## Question 2"
      ],
      "metadata": {
        "id": "Oo1it2OKCMIE"
      }
    },
    {
      "cell_type": "code",
      "source": [
        "x = int(input(''))\n",
        "y = int(input(''))\n",
        "print(x**y)"
      ],
      "metadata": {
        "colab": {
          "base_uri": "https://localhost:8080/"
        },
        "outputId": "fc610e13-3391-4959-cf84-bade519b63fd",
        "id": "AKB8Sf5Wbu8a"
      },
      "execution_count": 58,
      "outputs": [
        {
          "output_type": "stream",
          "name": "stdout",
          "text": [
            "2\n",
            "10\n",
            "1024\n"
          ]
        }
      ]
    },
    {
      "cell_type": "markdown",
      "source": [
        "## Question 3"
      ],
      "metadata": {
        "id": "YZM5yRseB-11"
      }
    },
    {
      "cell_type": "code",
      "source": [
        "y=0\n",
        "y=y+1\n",
        "y=y+2\n",
        "print(y)"
      ],
      "metadata": {
        "colab": {
          "base_uri": "https://localhost:8080/"
        },
        "id": "XZdKEXxC7JwR",
        "outputId": "08171ae4-6ddd-436d-823b-7f366a6c2116"
      },
      "execution_count": 6,
      "outputs": [
        {
          "output_type": "stream",
          "name": "stdout",
          "text": [
            "3\n"
          ]
        }
      ]
    },
    {
      "cell_type": "markdown",
      "source": [
        "## Question 4"
      ],
      "metadata": {
        "id": "Ea_oNuAeCGe8"
      }
    },
    {
      "cell_type": "code",
      "source": [
        "y=0\n",
        "y=y*1\n",
        "y=y*2\n",
        "print(y)"
      ],
      "metadata": {
        "colab": {
          "base_uri": "https://localhost:8080/"
        },
        "outputId": "01b9a78f-fa44-4814-d461-5be5c682cb3a",
        "id": "_JdSlZn78rJE"
      },
      "execution_count": 7,
      "outputs": [
        {
          "output_type": "stream",
          "name": "stdout",
          "text": [
            "0\n"
          ]
        }
      ]
    },
    {
      "cell_type": "markdown",
      "source": [
        "## Question 5"
      ],
      "metadata": {
        "id": "0t39uMKeCfeJ"
      }
    },
    {
      "cell_type": "markdown",
      "source": [
        "### *a*. Check if number is even"
      ],
      "metadata": {
        "id": "nMEoXn-wCpe1"
      }
    },
    {
      "cell_type": "markdown",
      "source": [
        "The algorithm is:\n",
        "1. Start.\n",
        "2. Let $x$ be the number.\n",
        "3. If $x \\ \\mathrm{mod} \\ 2$ equals $0$, print it is even, else print it is not even.\n",
        "4. Stop."
      ],
      "metadata": {
        "id": "2OeC78Dib4E7"
      }
    },
    {
      "cell_type": "code",
      "source": [
        "x = int(input(''))\n",
        "if x%2 == 0:\n",
        "  print(x,'is even')\n",
        "else:\n",
        "  print(x,'is not even')"
      ],
      "metadata": {
        "colab": {
          "base_uri": "https://localhost:8080/"
        },
        "id": "siZhSn6gCpNl",
        "outputId": "087ef795-8f9a-4e9f-f771-928baad0c392"
      },
      "execution_count": 60,
      "outputs": [
        {
          "output_type": "stream",
          "name": "stdout",
          "text": [
            "7\n",
            "7 is not even\n"
          ]
        }
      ]
    },
    {
      "cell_type": "markdown",
      "source": [
        "### *b*. Sum of even from 100 to 300\n",
        "\n",
        "The algorithm is:\n",
        "1. Start.\n",
        "2. Take a variable $n$ as 100 and another $sum$ as 0.\n",
        "3. While $x$ is less than or equal to $300$ do steps 4 and 5, after that go to step 6.\n",
        "4. If $ x \\ \\mathrm{mod} \\ 2 = 0$, $sum = sum + x$, else do nothing\n",
        "5. $x = x+1$.\n",
        "6. Print $sum$.\n",
        "7. Stop.\n"
      ],
      "metadata": {
        "id": "AIgio8vW9hoI"
      }
    },
    {
      "cell_type": "code",
      "source": [
        "x = 100\n",
        "sum = 0\n",
        "while x<=300:\n",
        "  if x % 2 == 0:\n",
        "    sum = sum+x\n",
        "  x=x+1\n",
        "print(sum)"
      ],
      "metadata": {
        "colab": {
          "base_uri": "https://localhost:8080/"
        },
        "id": "afUzPz8E9hJp",
        "outputId": "a0e5a7c6-d0e2-4e67-ac65-920f311f8cfc"
      },
      "execution_count": 10,
      "outputs": [
        {
          "output_type": "stream",
          "name": "stdout",
          "text": [
            "20200\n"
          ]
        }
      ]
    },
    {
      "cell_type": "markdown",
      "source": [
        "### *c*. Check if number is prime or not"
      ],
      "metadata": {
        "id": "vWUSWOz_I_wC"
      }
    },
    {
      "cell_type": "markdown",
      "source": [
        "The algorithm is:\n",
        "1. Start.\n",
        "1. If $x>1$ go ahed.\n",
        "1. Let $i=2$, $check=1$.\n",
        "1. While $i$ is less than half of $x$ and $check$ is still $1$ do steps 5 and 6.\n",
        "1. If $x \\ \\mathrm{mod} \\ i = 0$, put $c=0$, else do nothing.\n",
        "1. Let $i=i+1$.\n",
        "1. If $check$ is still $1$, print x is a prime number\n",
        "1. Stop."
      ],
      "metadata": {
        "id": "5jjmzqpIbGaG"
      }
    },
    {
      "cell_type": "code",
      "source": [
        "x = int(input(''))\n",
        "if x>1:\n",
        "  i=2\n",
        "  c=1\n",
        "  while i <= int(x/2) and c==1:\n",
        "    if x%i==0:\n",
        "      c=0\n",
        "    i=i+1\n",
        "if c == 1:\n",
        "  print(x,'is prime')"
      ],
      "metadata": {
        "colab": {
          "base_uri": "https://localhost:8080/"
        },
        "id": "gZePsmygJDLz",
        "outputId": "5b092acf-c973-4b39-bb7d-69b6bbcd2a64"
      },
      "execution_count": 56,
      "outputs": [
        {
          "output_type": "stream",
          "name": "stdout",
          "text": [
            "7\n",
            "7 is prime\n"
          ]
        }
      ]
    },
    {
      "cell_type": "markdown",
      "source": [
        "### *d*. Sum of all prime numbers between 1 and 200"
      ],
      "metadata": {
        "id": "eCRYNcPhKFOU"
      }
    },
    {
      "cell_type": "markdown",
      "source": [
        "The algorithm is:\n",
        "1. Start.\n",
        "2. Let $sum = 0$.\n",
        "1. For $x$ in $2$ to $200$,  by increment of $1$, do steps.\n",
        "1. Let $i=2$, $check=1$.\n",
        "1. While $i$ is less than half of $x$ and $check$ is still $1$ do steps 6 and7. Then go to step 8.\n",
        "1. If $x \\ \\mathrm{mod} \\ i = 0$, put $c=0$, else do nothing.\n",
        "1. Let $i=i+1$.\n",
        "1. If $check$ is still $1$, let $sum=sum+x$.\n",
        "1. Print sum as the sm of all primes.\n",
        "1. Stop."
      ],
      "metadata": {
        "id": "OBBTvPHBYn77"
      }
    },
    {
      "cell_type": "code",
      "source": [
        "sum=0\n",
        "for x in range (2,200):\n",
        "  i=2\n",
        "  c=1\n",
        "  while i <= int(x/2) and c==1:\n",
        "    if x%i==0:\n",
        "      c=0\n",
        "    i=i+1\n",
        "  if c==1:\n",
        "    sum=sum+x\n",
        "print('Sum is',sum)"
      ],
      "metadata": {
        "colab": {
          "base_uri": "https://localhost:8080/"
        },
        "id": "FtSd1dftLy7W",
        "outputId": "215fc467-35da-4c63-f6e5-c8f6d972c7e2"
      },
      "execution_count": 48,
      "outputs": [
        {
          "output_type": "stream",
          "name": "stdout",
          "text": [
            "Sum is 4227\n"
          ]
        }
      ]
    },
    {
      "cell_type": "markdown",
      "source": [
        "### *e*. Factorial of 10"
      ],
      "metadata": {
        "id": "UAruZ9UVKbjy"
      }
    },
    {
      "cell_type": "markdown",
      "source": [
        "The algoritm for while loop is:\n",
        "1. Let $n$ be $10$ and $f$ be the value of $n$.\n",
        "2. While $n > 1$, do steps 3 and 4, after that go to step 5.\n",
        "3. Let $n=n-1$.\n",
        "4. Let $f=f*n$.\n",
        "5. Print $f$ as the factorial of $n$."
      ],
      "metadata": {
        "id": "zynBF-OaXH-G"
      }
    },
    {
      "cell_type": "code",
      "source": [
        "n=10\n",
        "f=n\n",
        "while n>1:\n",
        "  n=n-1\n",
        "  f=f*n\n",
        "print(f)"
      ],
      "metadata": {
        "colab": {
          "base_uri": "https://localhost:8080/"
        },
        "id": "dr-DWitbOROf",
        "outputId": "175b1544-c032-4a81-c9cc-0994c55e45b9"
      },
      "execution_count": 38,
      "outputs": [
        {
          "output_type": "stream",
          "name": "stdout",
          "text": [
            "3628800\n"
          ]
        }
      ]
    },
    {
      "cell_type": "markdown",
      "source": [
        "The algorithm for 'for loop' is:\n",
        "1. Start.\n",
        "2. Let $n=10$ and $f=n$.\n",
        "3. For $i$ in range $n-1$ to $1$, with decrement by $1$, do step 4. Then go to step 5.\n",
        "4. Let $f = f*i$.\n",
        "5. Print $f$ as factotial of the number $n$.\n",
        "6. Stop."
      ],
      "metadata": {
        "id": "yA87Z9TbXq8S"
      }
    },
    {
      "cell_type": "code",
      "source": [
        "n=10\n",
        "f=n\n",
        "for i in range(n-1,1,-1):\n",
        "  f=f*i\n",
        "print(f)"
      ],
      "metadata": {
        "colab": {
          "base_uri": "https://localhost:8080/"
        },
        "id": "XZNbd5tUOp3_",
        "outputId": "d63749b8-88fe-4c2e-b385-b85c908b8306"
      },
      "execution_count": 55,
      "outputs": [
        {
          "output_type": "stream",
          "name": "stdout",
          "text": [
            "3628800\n"
          ]
        }
      ]
    },
    {
      "cell_type": "markdown",
      "source": [
        "## Question 6"
      ],
      "metadata": {
        "id": "dekEi_WuKghV"
      }
    },
    {
      "cell_type": "markdown",
      "source": [
        "The algorithm is\n",
        "1. Start.\n",
        "2. Take $n$ as the number in decimal system, let $bin$ be the number in binary system (as an empty string).\n",
        "3. While $n$ is not equal to $1$, do steps 4 to 6.\n",
        "4. Let $remainder$ = $n \\ \\mathrm{mod} \\ 2$\n",
        "5. Concatenate the string of $remainder$ and $bin$ in that order\n",
        "6. Let $n$ be the quotient of $n \\div 2$\n",
        "7. Concatenate $1$ in the begining of $bin$ and print it as the binary form.\n",
        "8. Stop."
      ],
      "metadata": {
        "id": "EiIIQypLVlxE"
      }
    },
    {
      "cell_type": "code",
      "source": [
        "n=int(input('Enter a number '))\n",
        "rem = -1\n",
        "bin = ''\n",
        "while n != 1:\n",
        "  rem=n%2\n",
        "  bin=str(rem)+bin\n",
        "  n=n//2\n",
        "bin='1'+bin\n",
        "print('The binary form is',bin)"
      ],
      "metadata": {
        "colab": {
          "base_uri": "https://localhost:8080/"
        },
        "id": "Xm8wPLAaQv9-",
        "outputId": "fe5d4bb6-98c6-4efa-93b4-56d15ddacb08"
      },
      "execution_count": 54,
      "outputs": [
        {
          "output_type": "stream",
          "name": "stdout",
          "text": [
            "Enter a number 17\n",
            "The binary form is 10001\n"
          ]
        }
      ]
    }
  ]
}